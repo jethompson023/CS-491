{
  "nbformat": 4,
  "nbformat_minor": 0,
  "metadata": {
    "colab": {
      "provenance": [],
      "authorship_tag": "ABX9TyNMYmHYaO2SzQNlogGpdqvt",
      "include_colab_link": true
    },
    "kernelspec": {
      "name": "python3",
      "display_name": "Python 3"
    },
    "language_info": {
      "name": "python"
    }
  },
  "cells": [
    {
      "cell_type": "markdown",
      "metadata": {
        "id": "view-in-github",
        "colab_type": "text"
      },
      "source": [
        "<a href=\"https://colab.research.google.com/github/jethompson023/CS-491/blob/main/CS491Assignment6.ipynb\" target=\"_parent\"><img src=\"https://colab.research.google.com/assets/colab-badge.svg\" alt=\"Open In Colab\"/></a>"
      ]
    },
    {
      "cell_type": "code",
      "metadata": {
        "id": "u6y5LBFxgF27",
        "colab": {
          "base_uri": "https://localhost:8080/"
        },
        "outputId": "82001d4d-b9c8-46c9-8da4-1aa3debfb3ae"
      },
      "source": [
        "import matplotlib.pyplot as plt\n",
        "import pandas as pd\n",
        "from google.colab import drive\n",
        "drive.mount('/content/drive')\n",
        "%matplotlib inline"
      ],
      "execution_count": null,
      "outputs": [
        {
          "output_type": "stream",
          "text": [
            "Drive already mounted at /content/drive; to attempt to forcibly remount, call drive.mount(\"/content/drive\", force_remount=True).\n"
          ],
          "name": "stdout"
        }
      ]
    },
    {
      "cell_type": "markdown",
      "metadata": {
        "id": "ChgD-OnDgQoG"
      },
      "source": [
        "1. Show a bar plot that shows the percent of survivors on the Titanic by class and by gender. "
      ]
    },
    {
      "cell_type": "code",
      "metadata": {
        "id": "0hzdR_cRk4nF"
      },
      "source": [
        "titanic = pd.read_csv(\"/content/drive/My Drive/Spring 2021/CS-491/Projects/Assignment 6/titanic.csv\")\n",
        "housing = pd.read_csv(\"/content/drive/My Drive/Spring 2021/CS-491/Projects/Assignment 6/AmesHousing.txt\", sep = \"\\t\")"
      ],
      "execution_count": null,
      "outputs": []
    },
    {
      "cell_type": "code",
      "metadata": {
        "colab": {
          "base_uri": "https://localhost:8080/",
          "height": 442
        },
        "id": "oRmBkQc1oIW-",
        "outputId": "e7a6c09f-fea0-4e5a-def7-00a2b97fa7d1"
      },
      "source": [
        "survival_counts = titanic.loc[titanic['survived'] == 1].groupby('pclass')['sex'].value_counts()\n",
        "total_count = titanic.groupby('pclass')['sex'].value_counts()\n",
        "\n",
        "percent_calc = (survival_counts / total_count)\n",
        "\n",
        "total_percent = percent_calc.unstack()\n",
        "\n",
        "total_percent.plot.bar()\n",
        "total_percent"
      ],
      "execution_count": null,
      "outputs": [
        {
          "output_type": "execute_result",
          "data": {
            "text/html": [
              "<div>\n",
              "<style scoped>\n",
              "    .dataframe tbody tr th:only-of-type {\n",
              "        vertical-align: middle;\n",
              "    }\n",
              "\n",
              "    .dataframe tbody tr th {\n",
              "        vertical-align: top;\n",
              "    }\n",
              "\n",
              "    .dataframe thead th {\n",
              "        text-align: right;\n",
              "    }\n",
              "</style>\n",
              "<table border=\"1\" class=\"dataframe\">\n",
              "  <thead>\n",
              "    <tr style=\"text-align: right;\">\n",
              "      <th>sex</th>\n",
              "      <th>female</th>\n",
              "      <th>male</th>\n",
              "    </tr>\n",
              "    <tr>\n",
              "      <th>pclass</th>\n",
              "      <th></th>\n",
              "      <th></th>\n",
              "    </tr>\n",
              "  </thead>\n",
              "  <tbody>\n",
              "    <tr>\n",
              "      <th>1.0</th>\n",
              "      <td>0.965278</td>\n",
              "      <td>0.340782</td>\n",
              "    </tr>\n",
              "    <tr>\n",
              "      <th>2.0</th>\n",
              "      <td>0.886792</td>\n",
              "      <td>0.146199</td>\n",
              "    </tr>\n",
              "    <tr>\n",
              "      <th>3.0</th>\n",
              "      <td>0.490741</td>\n",
              "      <td>0.152130</td>\n",
              "    </tr>\n",
              "  </tbody>\n",
              "</table>\n",
              "</div>"
            ],
            "text/plain": [
              "sex       female      male\n",
              "pclass                    \n",
              "1.0     0.965278  0.340782\n",
              "2.0     0.886792  0.146199\n",
              "3.0     0.490741  0.152130"
            ]
          },
          "metadata": {
            "tags": []
          },
          "execution_count": 9
        },
        {
          "output_type": "display_data",
          "data": {
            "image/png": "[encoded data removed]",
            "text/plain": [
              "<Figure size 432x288 with 1 Axes>"
            ]
          },
          "metadata": {
            "tags": [],
            "needs_background": "light"
          }
        }
      ]
    },
    {
      "cell_type": "markdown",
      "metadata": {
        "id": "tYs_4KWTZOhj"
      },
      "source": [
        "\n",
        "Q2. The file  nba_2013.csv contains information about the statistics of basketball players in 2013. Show the code to create a bar plot that shows the average number of points for each player age."
      ]
    },
    {
      "cell_type": "code",
      "metadata": {
        "id": "_4CeEQENYd_j"
      },
      "source": [
        "nba_players = pd.read_csv(\"/content/drive/My Drive/Spring 2021/CS-491/Projects/Assignment 6/nba_2013.csv\")"
      ],
      "execution_count": null,
      "outputs": []
    },
    {
      "cell_type": "code",
      "metadata": {
        "colab": {
          "base_uri": "https://localhost:8080/",
          "height": 673
        },
        "id": "7t-_wn8qaqQi",
        "outputId": "80dd3593-b275-4469-98ee-92a518b4391a"
      },
      "source": [
        "player_points = nba_players.groupby('age')['pts'].describe()['mean']\n",
        "player_points.plot.bar()\n",
        "player_points"
      ],
      "execution_count": null,
      "outputs": [
        {
          "output_type": "execute_result",
          "data": {
            "text/plain": [
              "age\n",
              "19    359.500000\n",
              "20    493.375000\n",
              "21    529.434783\n",
              "22    409.097561\n",
              "23    489.420000\n",
              "24    528.933333\n",
              "25    581.176471\n",
              "26    431.837209\n",
              "27    592.384615\n",
              "28    750.138889\n",
              "29    584.448276\n",
              "30    429.764706\n",
              "31    418.142857\n",
              "32    627.785714\n",
              "33    522.300000\n",
              "34    203.500000\n",
              "35    378.800000\n",
              "36    420.000000\n",
              "37    479.500000\n",
              "38    356.000000\n",
              "39    263.500000\n",
              "Name: mean, dtype: float64"
            ]
          },
          "metadata": {
            "tags": []
          },
          "execution_count": 17
        },
        {
          "output_type": "display_data",
          "data": {
            "image/png": "[encoded data removed]",
            "text/plain": [
              "<Figure size 432x288 with 1 Axes>"
            ]
          },
          "metadata": {
            "tags": [],
            "needs_background": "light"
          }
        }
      ]
    },
    {
      "cell_type": "markdown",
      "metadata": {
        "id": "70RB4x43akJJ"
      },
      "source": [
        "Q3. Show the code that creates a scatter plot using the same file. The X axes should be the age of the player and the Y axes should be the number of points. Argue if this figure or the figure from the previous question is a better representation of the relationship between age and the number of points scored."
      ]
    },
    {
      "cell_type": "code",
      "metadata": {
        "colab": {
          "base_uri": "https://localhost:8080/",
          "height": 282
        },
        "id": "l9Z3_EHjd5kY",
        "outputId": "78ffbc36-f076-4398-9126-9b13ceecfb15"
      },
      "source": [
        "points_players = nba_players[['age', 'pts']]\n",
        "\n",
        "plt.scatter((points_players['age'].tolist()), (points_players['pts'].tolist()))"
      ],
      "execution_count": null,
      "outputs": [
        {
          "output_type": "execute_result",
          "data": {
            "text/plain": [
              "<matplotlib.collections.PathCollection at 0x7fe22e393f90>"
            ]
          },
          "metadata": {
            "tags": []
          },
          "execution_count": 23
        },
        {
          "output_type": "display_data",
          "data": {
            "image/png": "[encoded data removed]",
            "text/plain": [
              "<Figure size 432x288 with 1 Axes>"
            ]
          },
          "metadata": {
            "tags": [],
            "needs_background": "light"
          }
        }
      ]
    }
  ]
}