{
  "nbformat": 4,
  "nbformat_minor": 0,
  "metadata": {
    "colab": {
      "provenance": [],
      "include_colab_link": true
    },
    "kernelspec": {
      "name": "python3",
      "display_name": "Python 3"
    },
    "language_info": {
      "name": "python"
    }
  },
  "cells": [
    {
      "cell_type": "markdown",
      "metadata": {
        "id": "view-in-github",
        "colab_type": "text"
      },
      "source": [
        "<a href=\"https://colab.research.google.com/github/jethompson023/CS-491/blob/main/CS491Assignment5.ipynb\" target=\"_parent\"><img src=\"https://colab.research.google.com/assets/colab-badge.svg\" alt=\"Open In Colab\"/></a>"
      ]
    },
    {
      "cell_type": "code",
      "metadata": {
        "id": "xmoWwBTR4en7"
      },
      "source": [
        "import pandas as pd \n",
        "import numpy as np \n",
        "from tensorflow.python.keras import models \n",
        "from tensorflow.python.keras import layers \n",
        "from sklearn.datasets import load_iris\n",
        "from sklearn.neural_network import MLPClassifier\n",
        "from sklearn.cluster import KMeans\n",
        "from sklearn.metrics import confusion_matrix\n",
        "import matplotlib.pyplot as plt\n",
        "from sklearn.preprocessing import StandardScaler"
      ],
      "execution_count": null,
      "outputs": []
    },
    {
      "cell_type": "code",
      "metadata": {
        "id": "fqIWplYjFBz0"
      },
      "source": [
        "iris = load_iris()\n",
        "iris_data = iris.data\n",
        "iris_target = iris.target"
      ],
      "execution_count": null,
      "outputs": []
    },
    {
      "cell_type": "markdown",
      "metadata": {
        "id": "qiBhu0Fv7Ml7"
      },
      "source": [
        "1) Create a Neural Network (NN) with three hidden layers. Train it on the data from the training set. Then find the class of each element in the testing set using the NN. What is your accuracy, that is, what percent of samples in the testing set were classified correctly?"
      ]
    },
    {
      "cell_type": "code",
      "metadata": {
        "id": "7M9kCwDjGPY4"
      },
      "source": [
        "df = pd.DataFrame(iris.data)\n",
        "df.columns = iris.feature_names\n",
        "df['category'] = iris.target"
      ],
      "execution_count": null,
      "outputs": []
    },
    {
      "cell_type": "code",
      "metadata": {
        "id": "c7Bhnp6N7YfC"
      },
      "source": [
        "training_data = iris['data'][:120, :]\n",
        "testing_data = iris['data'][120:, :]\n",
        "train_labels = iris['target'][:120]\n",
        "test_labels = iris['target'][120:]"
      ],
      "execution_count": null,
      "outputs": []
    },
    {
      "cell_type": "code",
      "metadata": {
        "id": "HKuceFagGUru"
      },
      "source": [
        "x_training = np.asarray(training_data)\n",
        "x_testing = np.asarray(testing_data)\n",
        "\n",
        "y_training = np.asarray(train_labels)\n",
        "y_testing = np.asarray(test_labels)"
      ],
      "execution_count": null,
      "outputs": []
    },
    {
      "cell_type": "code",
      "metadata": {
        "colab": {
          "base_uri": "https://localhost:8080/"
        },
        "id": "RTDHOZ0wFwGB",
        "outputId": "e8c6f144-ccbd-457e-f535-bf176df9ba11"
      },
      "source": [
        "#Setup the Model no the rwe set the bounds for training\n",
        "model = MLPClassifier(hidden_layer_sizes = ((3, 3, 3)), random_state=54 )\n",
        "model.fit(x_training, y_training)\n",
        "results = model.predict(x_testing)\n",
        "\n",
        "def checkSame(a, b):\n",
        "  if a == b: \n",
        "    return 1\n",
        "  return 0\n",
        "\n",
        "accuracy = np.vectorize(checkSame)(results, y_testing)\n",
        "accuratePredict = np.count_nonzero(accuracy)\n",
        "accuratePercent = accuratePredict / y_testing.shape[0] * 100\n",
        "print(\"Percent accuracy for testing set: \")\n",
        "print(accuratePercent)"
      ],
      "execution_count": null,
      "outputs": [
        {
          "output_type": "stream",
          "name": "stdout",
          "text": [
            "Percent accuracy for testing set: \n",
            "86.66666666666667\n"
          ]
        },
        {
          "output_type": "stream",
          "name": "stderr",
          "text": [
            "/usr/local/lib/python3.7/dist-packages/sklearn/neural_network/_multilayer_perceptron.py:571: ConvergenceWarning: Stochastic Optimizer: Maximum iterations (200) reached and the optimization hasn't converged yet.\n",
            "  % self.max_iter, ConvergenceWarning)\n"
          ]
        }
      ]
    },
    {
      "cell_type": "markdown",
      "metadata": {
        "id": "ErwuCgs_7ShP"
      },
      "source": [
        "2) Use the iris set again, but this time use the whole set (do not split it into training and testing set). Use the sklearn KMeans library and k=3 to cluster the 150 samples into three sets. Compute the following parameters."
      ]
    },
    {
      "cell_type": "code",
      "metadata": {
        "colab": {
          "base_uri": "https://localhost:8080/",
          "height": 404
        },
        "id": "f2q3z6KfPNUx",
        "outputId": "28fcd54b-f9a6-4bfd-d41b-11c9e9ba9962"
      },
      "source": [
        "X = iris_data\n",
        "Y = iris_target\n",
        "\n",
        "kmeans = KMeans(n_clusters = 3)\n",
        "kmeans.fit(X)\n",
        "predict = kmeans.predict(X)\n",
        "\n",
        "matrix = confusion_matrix(Y, predict)\n",
        "\n",
        "falsePost = matrix.sum(axis = 0) - np.diag(matrix)\n",
        "falseNeg = matrix.sum(axis = 1) - np.diag(matrix)\n",
        "truePost = np.diag(matrix)\n",
        "trueNeg = matrix.sum() - (falsePost + falseNeg + truePost)\n",
        "\n",
        "print(\"True Negatives:\\t\\t\" + str(trueNeg) + \"\\n\"\n",
        "      \"False Positives:\\t \" + str(falsePost) + \"\\n\"\n",
        "      \"False Negative:\\t\" + str(falseNeg) + \"\\n\"\n",
        "      \"True Positives: \\t\\t\" + str(truePost))\n",
        "precision = truePost / (truePost + falsePost)\n",
        "recall = truePost / (truePost + falseNeg)\n",
        "fiScore = 2 * (precision * recall) / (precision + recall)\n",
        "\n",
        "print(\"Percision: \\t\\t\" + str(precision))\n",
        "print(\"Recall:\\t\\t\\t\" + str(recall))\n",
        "print(\"F1 Score: \\t\\t\" + str(fiScore))\n",
        "\n",
        "centers = kmeans.cluster_centers_\n",
        "plt.scatter(X[:, 0], X[:, 1], s=1, c = predict, cmap= 'Dark2')\n",
        "plt.scatter(centers[:, 0], centers[:, 1], c='black', s=100, alpha = 0.5)"
      ],
      "execution_count": null,
      "outputs": [
        {
          "output_type": "stream",
          "name": "stdout",
          "text": [
            "True Negatives:\t\t[100  86  98]\n",
            "False Positives:\t [ 0 14  2]\n",
            "False Negative:\t[ 0  2 14]\n",
            "True Positives: \t\t[50 48 36]\n",
            "Percision: \t\t[1.         0.77419355 0.94736842]\n",
            "Recall:\t\t\t[1.   0.96 0.72]\n",
            "F1 Score: \t\t[1.         0.85714286 0.81818182]\n"
          ]
        },
        {
          "output_type": "execute_result",
          "data": {
            "text/plain": [
              "<matplotlib.collections.PathCollection at 0x7fbd7b1d40d0>"
            ]
          },
          "metadata": {},
          "execution_count": 7
        },
        {
          "output_type": "display_data",
          "data": {
            "image/png": "[encoded data removed]",
            "text/plain": [
              "<Figure size 432x288 with 1 Axes>"
            ]
          },
          "metadata": {
            "needs_background": "light"
          }
        }
      ]
    }
  ]
}