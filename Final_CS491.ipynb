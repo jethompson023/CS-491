{
  "nbformat": 4,
  "nbformat_minor": 0,
  "metadata": {
    "colab": {
      "provenance": [],
      "authorship_tag": "ABX9TyP/mIH28r810NQ1SPeYDEBV",
      "include_colab_link": true
    },
    "kernelspec": {
      "name": "python3",
      "display_name": "Python 3"
    },
    "language_info": {
      "name": "python"
    }
  },
  "cells": [
    {
      "cell_type": "markdown",
      "metadata": {
        "id": "view-in-github",
        "colab_type": "text"
      },
      "source": [
        "<a href=\"https://colab.research.google.com/github/jethompson023/CS-491/blob/main/Final_CS491.ipynb\" target=\"_parent\"><img src=\"https://colab.research.google.com/assets/colab-badge.svg\" alt=\"Open In Colab\"/></a>"
      ]
    },
    {
      "cell_type": "markdown",
      "metadata": {
        "id": "fXxAxxL4Hzc1"
      },
      "source": [
        "1. Use NumPy to create a 1000x1000 array. The first row should contain random real numbers between 0 (inclusive) and 10 (exclusive). Each of the next rows should contains the numbers of the first row multiplied by a random real number between 0 (inclusive) and 10 (exclusive)."
      ]
    },
    {
      "cell_type": "code",
      "metadata": {
        "id": "JrPYlRgkHsxo"
      },
      "source": [
        "import numpy as np \n",
        "import random\n",
        "from random import randint\n",
        "\n",
        "a = [np.random.randint(10, size= 1000)] * 1000\n",
        "\n",
        "def showArray(row):\n",
        "  return row*random.randint(0,10)\n",
        "\n",
        "a[1:] = np.apply_along_axis(showArray, 0, a[1:])\n",
        "a"
      ],
      "execution_count": null,
      "outputs": []
    },
    {
      "cell_type": "markdown",
      "metadata": {
        "id": "4XYxSb3VN1U_"
      },
      "source": [
        "2[3]. Write code to compute the sum of the numbers on the top right to the bottom left diagonal of the NumPy array of Question 1."
      ]
    },
    {
      "cell_type": "code",
      "metadata": {
        "colab": {
          "base_uri": "https://localhost:8080/"
        },
        "id": "3S0_4FvsN1BV",
        "outputId": "c6d327d0-0328-4376-f2aa-5edea93f0c5e"
      },
      "source": [
        "sum = np.diag(np.fliplr(a)).sum()\n",
        "sum"
      ],
      "execution_count": null,
      "outputs": [
        {
          "output_type": "execute_result",
          "data": {
            "text/plain": [
              "24708"
            ]
          },
          "metadata": {
            "tags": []
          },
          "execution_count": 161
        }
      ]
    },
    {
      "cell_type": "markdown",
      "metadata": {
        "id": "_gnuqpiRN2Vf"
      },
      "source": [
        "3[8]. Consider storing information about a movie theater. The Movie data frame contains information about the name of the movie (unique identifier) and the year the movie was produced.  The Room data frame stores the projection room number (unique identifier) and the capacity of the room. The Projection data frame stores the projection id (unique identifier), the date of the projection, the time of the projection, the room number, and the movie name. Lastly, the Ticket data frame stores the projection id and ticket price. As you can imagine, there can be multiple ticket sales for the same projection and the ticket prices can be different. Create the four data frames and populate them with sample data."
      ]
    },
    {
      "cell_type": "markdown",
      "metadata": {
        "id": "G7rN6NYYN6LU"
      },
      "source": [
        "For the next questions, write Python code to answer them.  You cannot assume anything about the content of the data frames. That is, your code should work regardless of what is in the data frames. If there are ties, please return all rows. For example, if the question asks for the movie that has sold the most tickets, please return all such movies if there is a tie. Your code should only return the data that the question requires."
      ]
    },
    {
      "cell_type": "code",
      "metadata": {
        "id": "UV00-JbUODT3"
      },
      "source": [
        "import numpy as np \n",
        "import pandas as pd\n",
        "\n",
        "movies_showings =({'flim_name': ['Iron Man', 'Captain America', 'Thor', 'Spiderman: No Way Home'],\n",
        "                   'year': [2008, 2011, 2013, 2021]}) \n",
        "show_movie = pd.DataFrame(movies_showings)\n",
        "\n",
        "showing_rooms =({'room_number': [1, 2, 3, 4],\n",
        "                   'max_capacity': [20, 50, 35, 55]})\n",
        "show_room = pd.DataFrame(showing_rooms)\n",
        "\n",
        "movie_projectors =({'projector_number': [12, 42, 63, 24],\n",
        "                   'show_date': ['12/6/2021', '2/4/2021', '11/12/2021', '12/6/2021'],\n",
        "                    'room_number': [3, 4, 2, 1],\n",
        "                    'flim_name': ['Iron Man', 'Captain America', 'Thor', 'Spiderman: No Way Home']})\n",
        "projectors = pd.DataFrame(movie_projectors)\n",
        "\n",
        "show_tickets =({'projector_number': [12, 42, 63, 24],\n",
        "                   'ticket_price': [15.00, 12.00, 12.00, 10.00]})\n",
        "tickets = pd.DataFrame(show_tickets)"
      ],
      "execution_count": null,
      "outputs": []
    },
    {
      "cell_type": "markdown",
      "metadata": {
        "id": "aXwFaFUFN-qd"
      },
      "source": [
        "4[4]. Which projection room has the highest average occupancy rate, where the occupancy rate for a projection is computed as the number of tickets sold divided by the capacity of the room? When computing the average occupancy rate, please divide the total number of tickets sold (for all projections in the room) by the max number of tickets that could have been sold. That is, please do not take the average for each projection and then take the average of these numbers. Return the room number for all such rooms. \n"
      ]
    },
    {
      "cell_type": "code",
      "metadata": {
        "colab": {
          "base_uri": "https://localhost:8080/"
        },
        "id": "KGeXs3h_ODLP",
        "outputId": "6be79e75-9951-4fb4-ab29-d414ddd1582e"
      },
      "source": [
        "#Join the two Dataframe for Comparision\n",
        "new_frame = show_room.join(projectors.set_index('room_number'), on= 'room_number')\n",
        "new_frame = new_frame.join(tickets.set_index('projector_number'), on='projector_number')[['room_number', 'max_capacity']]\n",
        "\n",
        "#Count the Number of Tickets Sold\n",
        "total_tickets = new_frame['room_number'].value_counts().to_frame().reset_index()\n",
        "\n",
        "#Create New Column for the Number of Tickets sold\n",
        "total_tickets.columns = ['room_number', 'totals']\n",
        "new_frame = new_frame.join(total_tickets.set_index('room_number'), on= 'room_number').drop_duplicates()\n",
        "\n",
        "#Find the Average\n",
        "new_frame['visitors'] = new_frame['totals'] / new_frame['max_capacity']\n",
        "new_frame.iloc[new_frame['visitors'].argmax()]['room_number']"
      ],
      "execution_count": null,
      "outputs": [
        {
          "output_type": "execute_result",
          "data": {
            "text/plain": [
              "1.0"
            ]
          },
          "metadata": {
            "tags": []
          },
          "execution_count": 143
        }
      ]
    },
    {
      "cell_type": "markdown",
      "metadata": {
        "id": "UUGRVrH6ODvz"
      },
      "source": [
        "5[4]. Which movie has the brought the most revenue from ticket sales? Print the names of all such movies."
      ]
    },
    {
      "cell_type": "code",
      "metadata": {
        "colab": {
          "base_uri": "https://localhost:8080/",
          "height": 341
        },
        "id": "rgmezDWHOEkD",
        "outputId": "618ac98c-b09e-4037-d7a2-dca8a0f564cd"
      },
      "source": [
        "max_rev = show_movie.join(projectors.set_index('flim_name'), on= 'flim_name')\n",
        "max_rev = max_rev.join(tickets.groupby('projector_number'), on= 'projector_number')\n",
        "max_rev.iloc[max_rev['ticket_price'].argmax()]['flim_name']"
      ],
      "execution_count": null,
      "outputs": [
        {
          "output_type": "error",
          "ename": "ValueError",
          "evalue": "ignored",
          "traceback": [
            "\u001b[0;31m---------------------------------------------------------------------------\u001b[0m",
            "\u001b[0;31mValueError\u001b[0m                                Traceback (most recent call last)",
            "\u001b[0;32m<ipython-input-144-0c5117010c3d>\u001b[0m in \u001b[0;36m<module>\u001b[0;34m()\u001b[0m\n\u001b[1;32m      1\u001b[0m \u001b[0mmax_rev\u001b[0m \u001b[0;34m=\u001b[0m \u001b[0mshow_movie\u001b[0m\u001b[0;34m.\u001b[0m\u001b[0mjoin\u001b[0m\u001b[0;34m(\u001b[0m\u001b[0mprojectors\u001b[0m\u001b[0;34m.\u001b[0m\u001b[0mset_index\u001b[0m\u001b[0;34m(\u001b[0m\u001b[0;34m'flim_name'\u001b[0m\u001b[0;34m)\u001b[0m\u001b[0;34m,\u001b[0m \u001b[0mon\u001b[0m\u001b[0;34m=\u001b[0m \u001b[0;34m'flim_name'\u001b[0m\u001b[0;34m)\u001b[0m\u001b[0;34m\u001b[0m\u001b[0;34m\u001b[0m\u001b[0m\n\u001b[0;32m----> 2\u001b[0;31m \u001b[0mmax_rev\u001b[0m \u001b[0;34m=\u001b[0m \u001b[0mmax_rev\u001b[0m\u001b[0;34m.\u001b[0m\u001b[0mjoin\u001b[0m\u001b[0;34m(\u001b[0m\u001b[0mtickets\u001b[0m\u001b[0;34m.\u001b[0m\u001b[0mgroupby\u001b[0m\u001b[0;34m(\u001b[0m\u001b[0;34m'projector_number'\u001b[0m\u001b[0;34m)\u001b[0m\u001b[0;34m,\u001b[0m \u001b[0mon\u001b[0m\u001b[0;34m=\u001b[0m \u001b[0;34m'projector_number'\u001b[0m\u001b[0;34m)\u001b[0m\u001b[0;34m\u001b[0m\u001b[0;34m\u001b[0m\u001b[0m\n\u001b[0m\u001b[1;32m      3\u001b[0m \u001b[0mmax_rev\u001b[0m\u001b[0;34m.\u001b[0m\u001b[0miloc\u001b[0m\u001b[0;34m[\u001b[0m\u001b[0mmax_rev\u001b[0m\u001b[0;34m[\u001b[0m\u001b[0;34m'ticket_price'\u001b[0m\u001b[0;34m]\u001b[0m\u001b[0;34m.\u001b[0m\u001b[0margmax\u001b[0m\u001b[0;34m(\u001b[0m\u001b[0;34m)\u001b[0m\u001b[0;34m]\u001b[0m\u001b[0;34m[\u001b[0m\u001b[0;34m'flim_name'\u001b[0m\u001b[0;34m]\u001b[0m\u001b[0;34m\u001b[0m\u001b[0;34m\u001b[0m\u001b[0m\n",
            "\u001b[0;32m/usr/local/lib/python3.7/dist-packages/pandas/core/frame.py\u001b[0m in \u001b[0;36mjoin\u001b[0;34m(self, other, on, how, lsuffix, rsuffix, sort)\u001b[0m\n\u001b[1;32m   7873\u001b[0m         \"\"\"\n\u001b[1;32m   7874\u001b[0m         return self._join_compat(\n\u001b[0;32m-> 7875\u001b[0;31m             \u001b[0mother\u001b[0m\u001b[0;34m,\u001b[0m \u001b[0mon\u001b[0m\u001b[0;34m=\u001b[0m\u001b[0mon\u001b[0m\u001b[0;34m,\u001b[0m \u001b[0mhow\u001b[0m\u001b[0;34m=\u001b[0m\u001b[0mhow\u001b[0m\u001b[0;34m,\u001b[0m \u001b[0mlsuffix\u001b[0m\u001b[0;34m=\u001b[0m\u001b[0mlsuffix\u001b[0m\u001b[0;34m,\u001b[0m \u001b[0mrsuffix\u001b[0m\u001b[0;34m=\u001b[0m\u001b[0mrsuffix\u001b[0m\u001b[0;34m,\u001b[0m \u001b[0msort\u001b[0m\u001b[0;34m=\u001b[0m\u001b[0msort\u001b[0m\u001b[0;34m\u001b[0m\u001b[0;34m\u001b[0m\u001b[0m\n\u001b[0m\u001b[1;32m   7876\u001b[0m         )\n\u001b[1;32m   7877\u001b[0m \u001b[0;34m\u001b[0m\u001b[0m\n",
            "\u001b[0;32m/usr/local/lib/python3.7/dist-packages/pandas/core/frame.py\u001b[0m in \u001b[0;36m_join_compat\u001b[0;34m(self, other, on, how, lsuffix, rsuffix, sort)\u001b[0m\n\u001b[1;32m   7901\u001b[0m             \u001b[0;32mif\u001b[0m \u001b[0mon\u001b[0m \u001b[0;32mis\u001b[0m \u001b[0;32mnot\u001b[0m \u001b[0;32mNone\u001b[0m\u001b[0;34m:\u001b[0m\u001b[0;34m\u001b[0m\u001b[0;34m\u001b[0m\u001b[0m\n\u001b[1;32m   7902\u001b[0m                 raise ValueError(\n\u001b[0;32m-> 7903\u001b[0;31m                     \u001b[0;34m\"Joining multiple DataFrames only supported for joining on index\"\u001b[0m\u001b[0;34m\u001b[0m\u001b[0;34m\u001b[0m\u001b[0m\n\u001b[0m\u001b[1;32m   7904\u001b[0m                 )\n\u001b[1;32m   7905\u001b[0m \u001b[0;34m\u001b[0m\u001b[0m\n",
            "\u001b[0;31mValueError\u001b[0m: Joining multiple DataFrames only supported for joining on index"
          ]
        }
      ]
    },
    {
      "cell_type": "markdown",
      "metadata": {
        "id": "kgkyKZGmOGYv"
      },
      "source": [
        "6[4]. On which date(s) did the movie theater made the highest revenue from ticket sales? Return all such dates."
      ]
    },
    {
      "cell_type": "code",
      "metadata": {
        "id": "SetrL4WSOHHF"
      },
      "source": [
        "high_rev = projectors.join(tickets.groupby('projector_number').sum(), on='projector_number')\n",
        "high_rev = high_rev.groupby('show_date').sum().reset_index()\n",
        "high_rev.iloc[high_rev['ticket_price'].argmax()]['show_date']"
      ],
      "execution_count": null,
      "outputs": []
    },
    {
      "cell_type": "markdown",
      "metadata": {
        "id": "Xw_at4ZAOHW_"
      },
      "source": [
        "7[4]. What is the name of the oldest movie(s) that has been shown in the movie theater? "
      ]
    },
    {
      "cell_type": "code",
      "metadata": {
        "id": "Z4kZJu3gOJuR"
      },
      "source": [
        "show_movie.iloc[show_movie['year'].argmin()]['flim_name']"
      ],
      "execution_count": null,
      "outputs": []
    },
    {
      "cell_type": "markdown",
      "metadata": {
        "id": "99xys04TOKDz"
      },
      "source": [
        "8[4]. Which movie(s) has the highest average ticket price? Return the name(s) of all such movies."
      ]
    },
    {
      "cell_type": "code",
      "metadata": {
        "id": "lpgE_flPOLuA"
      },
      "source": [
        "high_avg = show_movie.join(projectors.set_index('flim_name'), on='flim_name')\n",
        "high_avg = high_avg.join(tickets.groupby('projector_number').mean(), on='projector_number')\n",
        "high_avg.iloc[high_rev['ticket_price'].argmax()]['flim_name']"
      ],
      "execution_count": null,
      "outputs": []
    },
    {
      "cell_type": "markdown",
      "metadata": {
        "id": "q8SvZ0pUOL9R"
      },
      "source": [
        "9[6]. Show an example XML file that contains the same information as the sample data that you created in Question 3. \n"
      ]
    },
    {
      "cell_type": "markdown",
      "metadata": {
        "id": "JnwX5vSVONvu"
      },
      "source": [
        "10[2]. Write an XPath query that finds the dates of the “James Bond” movie projections."
      ]
    },
    {
      "cell_type": "code",
      "metadata": {
        "colab": {
          "base_uri": "https://localhost:8080/",
          "height": 130
        },
        "id": "astQMObjOQKy",
        "outputId": "1b2d1b1b-9372-48b9-9cd2-46e19b0054f3"
      },
      "source": [
        "from google.colab import drive\n",
        "drive.mount('/content/drive', force_remount = True)\n",
        "(/content/drive/GoogleDrive/My Drive/Spring 2021/CS-491[text()=”James Bond”]/../@date)"
      ],
      "execution_count": null,
      "outputs": [
        {
          "output_type": "error",
          "ename": "SyntaxError",
          "evalue": "ignored",
          "traceback": [
            "\u001b[0;36m  File \u001b[0;32m\"<ipython-input-151-962fee0b602f>\"\u001b[0;36m, line \u001b[0;32m3\u001b[0m\n\u001b[0;31m    (/content/drive/GoogleDrive/My Drive/Spring 2021/CS-491[text()=”James Bond”]/../@date)\u001b[0m\n\u001b[0m     ^\u001b[0m\n\u001b[0;31mSyntaxError\u001b[0m\u001b[0;31m:\u001b[0m invalid syntax\n"
          ]
        }
      ]
    },
    {
      "cell_type": "markdown",
      "metadata": {
        "id": "abOg0imiOQ7-"
      },
      "source": [
        "11[4]. Consider again the data from Question 3. Write a program that shows a scatter plot of the ticket revenue per day. The X coordinate is the date and the Y coordinate is the total revenue from ticket sales for that day. Your code should not depend on the actual content of the data frames. That is, it should work regardless of the content of the data frames. "
      ]
    },
    {
      "cell_type": "code",
      "metadata": {
        "colab": {
          "base_uri": "https://localhost:8080/",
          "height": 265
        },
        "id": "7KBCxY07PAT_",
        "outputId": "a13f3af4-c518-4a75-88db-b7b60b2b0f23"
      },
      "source": [
        "tick_rev = projectors.join(tickets.groupby('projector_number').sum(), on='projector_number')\n",
        "tick_rev = tick_rev.groupby('show_date').sum().reset_index()\n",
        "\n",
        "x = tick_rev['show_date'].tolist()\n",
        "y = tick_rev['ticket_price'].tolist()\n",
        "plt.scatter(x,y)\n",
        "plt.show()"
      ],
      "execution_count": null,
      "outputs": [
        {
          "output_type": "display_data",
          "data": {
            "image/png": "[encoded data removed]",
            "text/plain": [
              "<Figure size 432x288 with 1 Axes>"
            ]
          },
          "metadata": {
            "tags": [],
            "needs_background": "light"
          }
        }
      ]
    },
    {
      "cell_type": "markdown",
      "metadata": {
        "id": "RIuzATE_OWdG"
      },
      "source": [
        "12[2]. Consider the following table\n",
        "\n",
        "![Screen Shot 2021-06-11 at 1.58.25 PM.png](data:image/png;base64,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)\n",
        "\n",
        "\n",
        "Show graphically the result of applying two steps of the k-Means Clustering algorithm on the data. Use k =3. It is up to you how to choose the initial centroids. "
      ]
    },
    {
      "cell_type": "code",
      "metadata": {
        "id": "1Rs8_1lwOvrh"
      },
      "source": [
        "#Generate the data from the table given \n",
        "import pandas as pd\n",
        "\n",
        "d1 = pd.DataFrame(\n",
        "      {'A': ['3', '2', '1', '2', '3'], \n",
        "      'B': ['2', '1', '3', '2', '1']})\n",
        "df = pd.DataFrame(d1)"
      ],
      "execution_count": null,
      "outputs": []
    },
    {
      "cell_type": "code",
      "metadata": {
        "id": "eWNeB52YPPh9"
      },
      "source": [
        "#Implement k-means clustering and sklearn\n",
        "%matplotlib inline\n",
        "import matplotlib.pyplot as plt\n",
        "import sklearn_pandas\n",
        "from sklearn.cluster import KMeans\n",
        "\n",
        "#Setup the Clustering from the dataframe\n",
        "kmeans = KMeans(n_clusters = 3)\n",
        "kmeans.fit(df)\n",
        "y_kmeans = kmeans.predict(df)"
      ],
      "execution_count": null,
      "outputs": []
    },
    {
      "cell_type": "code",
      "metadata": {
        "colab": {
          "base_uri": "https://localhost:8080/",
          "height": 282
        },
        "id": "fT04kXwDPPzX",
        "outputId": "a8b757e0-0645-44e5-8870-f8e71662ec42"
      },
      "source": [
        "#Plot the results from the clustering\n",
        "centers = kmeans.cluster_centers_\n",
        "plt.scatter(centers[:,0],centers[:,1], c='blue', s=100, alpha=0.5)"
      ],
      "execution_count": null,
      "outputs": [
        {
          "output_type": "execute_result",
          "data": {
            "text/plain": [
              "<matplotlib.collections.PathCollection at 0x7fba916cfc50>"
            ]
          },
          "metadata": {
            "tags": []
          },
          "execution_count": 147
        },
        {
          "output_type": "display_data",
          "data": {
            "image/png": "[encoded data removed]",
            "text/plain": [
              "<Figure size 432x288 with 1 Axes>"
            ]
          },
          "metadata": {
            "tags": [],
            "needs_background": "light"
          }
        }
      ]
    }
  ]
}