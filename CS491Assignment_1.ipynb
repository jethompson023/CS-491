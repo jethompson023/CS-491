{
  "nbformat": 4,
  "nbformat_minor": 0,
  "metadata": {
    "colab": {
      "provenance": [],
      "authorship_tag": "ABX9TyMbqkfDIZsDRkNKt91vw79Z",
      "include_colab_link": true
    },
    "kernelspec": {
      "name": "python3",
      "display_name": "Python 3"
    },
    "language_info": {
      "name": "python"
    }
  },
  "cells": [
    {
      "cell_type": "markdown",
      "metadata": {
        "id": "view-in-github",
        "colab_type": "text"
      },
      "source": [
        "<a href=\"https://colab.research.google.com/github/jethompson023/CS-491/blob/main/CS491Assignment_1.ipynb\" target=\"_parent\"><img src=\"https://colab.research.google.com/assets/colab-badge.svg\" alt=\"Open In Colab\"/></a>"
      ]
    },
    {
      "cell_type": "markdown",
      "metadata": {
        "id": "G0fgJUAIl-gy"
      },
      "source": [
        "1. Use NumPy to create a 10x10 array that contains the multiplication table. Here is what the values inside the array should look like. Show the code to create the array. Use the outer function to create the array.\n"
      ]
    },
    {
      "cell_type": "code",
      "metadata": {
        "id": "6x00tzr7koMZ"
      },
      "source": [
        "import numpy as np\n",
        "import random"
      ],
      "execution_count": null,
      "outputs": []
    },
    {
      "cell_type": "code",
      "metadata": {
        "colab": {
          "base_uri": "https://localhost:8080/"
        },
        "id": "qpN0yZO1xDZQ",
        "outputId": "4878aa62-1f9c-4450-d6ec-ec42f623dc8a"
      },
      "source": [
        "table = np.outer(np.linspace(1,10,10), np.linspace(1,10,10))\n",
        "print(table)"
      ],
      "execution_count": null,
      "outputs": [
        {
          "output_type": "stream",
          "text": [
            "[[  1.   2.   3.   4.   5.   6.   7.   8.   9.  10.]\n",
            " [  2.   4.   6.   8.  10.  12.  14.  16.  18.  20.]\n",
            " [  3.   6.   9.  12.  15.  18.  21.  24.  27.  30.]\n",
            " [  4.   8.  12.  16.  20.  24.  28.  32.  36.  40.]\n",
            " [  5.  10.  15.  20.  25.  30.  35.  40.  45.  50.]\n",
            " [  6.  12.  18.  24.  30.  36.  42.  48.  54.  60.]\n",
            " [  7.  14.  21.  28.  35.  42.  49.  56.  63.  70.]\n",
            " [  8.  16.  24.  32.  40.  48.  56.  64.  72.  80.]\n",
            " [  9.  18.  27.  36.  45.  54.  63.  72.  81.  90.]\n",
            " [ 10.  20.  30.  40.  50.  60.  70.  80.  90. 100.]]\n"
          ],
          "name": "stdout"
        }
      ]
    },
    {
      "cell_type": "markdown",
      "metadata": {
        "id": "UuDh0TBqmNDZ"
      },
      "source": [
        "2. Write code that selects the 4x4 array that is in the middle inside the big array. \n"
      ]
    },
    {
      "cell_type": "markdown",
      "source": [
        "Answer:\n",
        "\n",
        "Result should be:\n",
        "[[16, 20, 24, 28],\n",
        "[20, 25, 30, 35],\n",
        "[24, 30, 36, 42],\n",
        "[28, 35, 42, 49]]"
      ],
      "metadata": {
        "id": "Im64lcVEQTCu"
      }
    },
    {
      "cell_type": "code",
      "metadata": {
        "colab": {
          "base_uri": "https://localhost:8080/"
        },
        "id": "UqW7kQ_1VH5_",
        "outputId": "192b584d-690e-464d-ac01-169b63a43b4e"
      },
      "source": [
        "a = np.array([[16,20,24,28], [20,25,30,35]])\n",
        "b = np.array([[24,30,36,42], [28,35,42,49]])\n",
        "print(np.concatenate([a,b]))"
      ],
      "execution_count": null,
      "outputs": [
        {
          "output_type": "stream",
          "text": [
            "[[16 20 24 28]\n",
            " [20 25 30 35]\n",
            " [24 30 36 42]\n",
            " [28 35 42 49]]\n"
          ],
          "name": "stdout"
        }
      ]
    },
    {
      "cell_type": "markdown",
      "metadata": {
        "id": "2g_g-XIKmV5E"
      },
      "source": [
        "3. Create a 4x4 array that contains the numbers from 1 to 16. Use the arange and reshape functions. "
      ]
    },
    {
      "cell_type": "code",
      "metadata": {
        "colab": {
          "base_uri": "https://localhost:8080/"
        },
        "id": "49-U1adfg0aO",
        "outputId": "e89a51af-899a-4d02-c866-cf5357aaa59c"
      },
      "source": [
        "a = np.arange(1,17).reshape((4,4))\n",
        "print(a)"
      ],
      "execution_count": null,
      "outputs": [
        {
          "output_type": "stream",
          "text": [
            "[[ 1  2  3  4]\n",
            " [ 5  6  7  8]\n",
            " [ 9 10 11 12]\n",
            " [13 14 15 16]]\n"
          ],
          "name": "stdout"
        }
      ]
    },
    {
      "cell_type": "markdown",
      "metadata": {
        "id": "IDlppsubmemU"
      },
      "source": [
        "4. Consider the arrays from the last two questions. Create a new 4x4 array that has value of true if both values in the two arrays are even and false otherwise. Hint: use a vectorized custom function with two inputs."
      ]
    },
    {
      "cell_type": "code",
      "metadata": {
        "colab": {
          "base_uri": "https://localhost:8080/"
        },
        "id": "2bXCupinpjTQ",
        "outputId": "93f563cd-7441-4df3-e5f2-1e70bd04efc0"
      },
      "source": [
        "a = np.arange(1,17).reshape((4,4))\n",
        "b = np.array([[16,20,24,28],\n",
        "       [20,25,30,35],\n",
        "       [24,30,36,42], \n",
        "       [28,35,42,49]])\n",
        "\n",
        "def customFunc(a, b):\n",
        "    #If a & b are even return 1 for \"true\" if not return \"false\"\"\n",
        "    if ((a % 2) == 0) & ((b % 2) == 0):\n",
        "        return True\n",
        "    else:\n",
        "        return False\n",
        "\n",
        "result = np.vectorize(customFunc)(a,b)\n",
        "print(result)"
      ],
      "execution_count": null,
      "outputs": [
        {
          "output_type": "stream",
          "text": [
            "[[False  True False  True]\n",
            " [False False False False]\n",
            " [False  True False  True]\n",
            " [False False False False]]\n"
          ],
          "name": "stdout"
        }
      ]
    },
    {
      "cell_type": "markdown",
      "metadata": {
        "id": "xAgQ4bQymkek"
      },
      "source": [
        "5. Write code that returns the number of even numbers in the array from Q2.\n"
      ]
    },
    {
      "cell_type": "code",
      "metadata": {
        "colab": {
          "base_uri": "https://localhost:8080/"
        },
        "id": "mL_SIBmXpU9Q",
        "outputId": "15f75757-08c1-4d1b-db12-a70ba5f5417c"
      },
      "source": [
        "a = np.array([[16,20,24,28], [20,25,30,35]])\n",
        "b = np.array([[24,30,36,42], [28,35,42,49]])\n",
        "list = np.concatenate([a,b])\n",
        "\n",
        "(list % 2 == 0).sum()"
      ],
      "execution_count": null,
      "outputs": [
        {
          "output_type": "execute_result",
          "data": {
            "text/plain": [
              "12"
            ]
          },
          "metadata": {
            "tags": []
          },
          "execution_count": 22
        }
      ]
    },
    {
      "cell_type": "markdown",
      "metadata": {
        "id": "K2Nw_5-wmqfy"
      },
      "source": [
        "6. Write code the returns the square root of the numbers in the array from Q3."
      ]
    },
    {
      "cell_type": "code",
      "metadata": {
        "colab": {
          "base_uri": "https://localhost:8080/"
        },
        "id": "-rklQFc6sgf0",
        "outputId": "3b80e586-fd96-433f-b08c-ca5fffacf479"
      },
      "source": [
        "a = np.arange(1,17).reshape((4,4))\n",
        "\n",
        "#find square root of items in the list\n",
        "output = np.sqrt(a)\n",
        "\n",
        "print(output)"
      ],
      "execution_count": null,
      "outputs": [
        {
          "output_type": "stream",
          "text": [
            "[[1.         1.41421356 1.73205081 2.        ]\n",
            " [2.23606798 2.44948974 2.64575131 2.82842712]\n",
            " [3.         3.16227766 3.31662479 3.46410162]\n",
            " [3.60555128 3.74165739 3.87298335 4.        ]]\n"
          ],
          "name": "stdout"
        }
      ]
    },
    {
      "cell_type": "markdown",
      "metadata": {
        "id": "w6K1enhgmx3D"
      },
      "source": [
        "7. Write code that returns the array from Q1, where the numbers on the diagonal are incremented by 1. Do not explicitly enumerate all the elements on the diagonal.\n"
      ]
    },
    {
      "cell_type": "code",
      "metadata": {
        "colab": {
          "base_uri": "https://localhost:8080/"
        },
        "id": "0C9DqY4vuXDX",
        "outputId": "02a4fd49-1f24-455c-c1a6-3eb31fd9b5f2"
      },
      "source": [
        "table_2 = table\n",
        "np.fill_diagonal(table_2, table.diagonal() + 1)\n",
        "print(table_2)"
      ],
      "execution_count": null,
      "outputs": [
        {
          "output_type": "stream",
          "text": [
            "[[  4.   2.   3.   4.   5.   6.   7.   8.   9.  10.]\n",
            " [  2.   7.   6.   8.  10.  12.  14.  16.  18.  20.]\n",
            " [  3.   6.  12.  12.  15.  18.  21.  24.  27.  30.]\n",
            " [  4.   8.  12.  19.  20.  24.  28.  32.  36.  40.]\n",
            " [  5.  10.  15.  20.  28.  30.  35.  40.  45.  50.]\n",
            " [  6.  12.  18.  24.  30.  39.  42.  48.  54.  60.]\n",
            " [  7.  14.  21.  28.  35.  42.  52.  56.  63.  70.]\n",
            " [  8.  16.  24.  32.  40.  48.  56.  67.  72.  80.]\n",
            " [  9.  18.  27.  36.  45.  54.  63.  72.  84.  90.]\n",
            " [ 10.  20.  30.  40.  50.  60.  70.  80.  90. 103.]]\n"
          ],
          "name": "stdout"
        }
      ]
    },
    {
      "cell_type": "markdown",
      "metadata": {
        "id": "uxzcrCEMm0EQ"
      },
      "source": [
        "8. Write code that shows the array from Q1 in reverse order. The first row should have the number 100, 90, ... 10. The second row should be the ninth row in the initial array in reverse order and so on."
      ]
    },
    {
      "cell_type": "code",
      "metadata": {
        "id": "iRvc5IwsnGo4",
        "colab": {
          "base_uri": "https://localhost:8080/"
        },
        "outputId": "099c305e-9c27-4656-cad6-dc27afed6e99"
      },
      "source": [
        "res = table[::-1] #reversing using list slicing\n",
        "print(res)"
      ],
      "execution_count": null,
      "outputs": [
        {
          "output_type": "stream",
          "text": [
            "[[ 10.  20.  30.  40.  50.  60.  70.  80.  90. 100.]\n",
            " [  9.  18.  27.  36.  45.  54.  63.  72.  81.  90.]\n",
            " [  8.  16.  24.  32.  40.  48.  56.  64.  72.  80.]\n",
            " [  7.  14.  21.  28.  35.  42.  49.  56.  63.  70.]\n",
            " [  6.  12.  18.  24.  30.  36.  42.  48.  54.  60.]\n",
            " [  5.  10.  15.  20.  25.  30.  35.  40.  45.  50.]\n",
            " [  4.   8.  12.  16.  20.  24.  28.  32.  36.  40.]\n",
            " [  3.   6.   9.  12.  15.  18.  21.  24.  27.  30.]\n",
            " [  2.   4.   6.   8.  10.  12.  14.  16.  18.  20.]\n",
            " [  1.   2.   3.   4.   5.   6.   7.   8.   9.  10.]]\n"
          ],
          "name": "stdout"
        }
      ]
    },
    {
      "cell_type": "markdown",
      "metadata": {
        "id": "JBfP_2pHm3Xi"
      },
      "source": [
        "9. Write code that creates a 10x10 array of random float numbers between 0.0 and 10.0. The numbers should appear in the array sorted in ascending order."
      ]
    },
    {
      "cell_type": "code",
      "metadata": {
        "id": "AK_pmV-PnHYO",
        "colab": {
          "base_uri": "https://localhost:8080/"
        },
        "outputId": "67f5fcb7-42da-499a-ca52-388c19b1ae5f"
      },
      "source": [
        "randArray = np.random.uniform(size=(10,10), low = 0.0, high = 10.0)\n",
        "print(randArray.round(2))"
      ],
      "execution_count": null,
      "outputs": [
        {
          "output_type": "stream",
          "text": [
            "[[5.08 0.75 4.12 4.34 1.47 4.24 9.23 7.88 2.46 7.04]\n",
            " [7.   6.34 3.91 0.74 1.52 5.93 3.63 9.56 8.13 3.83]\n",
            " [8.33 1.72 3.67 0.41 2.72 4.77 3.11 5.78 2.78 7.18]\n",
            " [9.49 8.61 6.52 2.39 9.03 0.89 8.43 8.77 3.65 8.44]\n",
            " [9.57 5.66 1.18 4.11 8.36 0.68 0.27 4.94 5.53 8.9 ]\n",
            " [3.2  5.09 1.95 1.46 7.85 3.53 5.06 0.38 0.38 3.92]\n",
            " [2.98 2.02 5.41 8.   9.74 5.51 8.6  9.85 5.77 9.31]\n",
            " [9.35 0.34 0.06 6.64 1.17 6.76 5.11 2.3  9.89 1.78]\n",
            " [5.87 7.21 2.65 2.58 4.52 3.29 4.28 9.93 8.53 8.04]\n",
            " [1.89 4.41 1.02 3.96 0.69 4.85 4.8  4.6  3.39 7.04]]\n"
          ],
          "name": "stdout"
        }
      ]
    },
    {
      "cell_type": "markdown",
      "metadata": {
        "id": "4K--CdRom6c3"
      },
      "source": [
        "10. Write code that creates one-dimensional array of 10 elements. The ith element should be the average of the numbers in the ith row of the array from Q1."
      ]
    },
    {
      "cell_type": "code",
      "metadata": {
        "id": "q-QJd8genH8s",
        "colab": {
          "base_uri": "https://localhost:8080/"
        },
        "outputId": "e5cf70d0-231f-4642-87af-b5d2584698b7"
      },
      "source": [
        "x = np.ones((10, 10))\n",
        "for i in range(1,11):\n",
        "  for j in range(1,11):\n",
        "    x[i-1,j-1]=i*j\n",
        "print(x)"
      ],
      "execution_count": null,
      "outputs": [
        {
          "output_type": "stream",
          "text": [
            "[[  1.   2.   3.   4.   5.   6.   7.   8.   9.  10.]\n",
            " [  2.   4.   6.   8.  10.  12.  14.  16.  18.  20.]\n",
            " [  3.   6.   9.  12.  15.  18.  21.  24.  27.  30.]\n",
            " [  4.   8.  12.  16.  20.  24.  28.  32.  36.  40.]\n",
            " [  5.  10.  15.  20.  25.  30.  35.  40.  45.  50.]\n",
            " [  6.  12.  18.  24.  30.  36.  42.  48.  54.  60.]\n",
            " [  7.  14.  21.  28.  35.  42.  49.  56.  63.  70.]\n",
            " [  8.  16.  24.  32.  40.  48.  56.  64.  72.  80.]\n",
            " [  9.  18.  27.  36.  45.  54.  63.  72.  81.  90.]\n",
            " [ 10.  20.  30.  40.  50.  60.  70.  80.  90. 100.]]\n"
          ],
          "name": "stdout"
        }
      ]
    },
    {
      "cell_type": "markdown",
      "metadata": {
        "id": "FaMO3covm9Bl"
      },
      "source": [
        "11[4]. Write a method that performs merge sort. Use partition, split, recursion, and the hstack method. "
      ]
    },
    {
      "cell_type": "code",
      "metadata": {
        "id": "Go8YGfOGnIbW",
        "colab": {
          "base_uri": "https://localhost:8080/"
        },
        "outputId": "dd6a4c46-d3b3-4d7d-a15b-2a32b29dd484"
      },
      "source": [
        "def mergeSort(myArray):\n",
        "  if len(myArray) // 2:\n",
        "    middle = len(myArray) // 2\n",
        "    left = myArray[:middle]\n",
        "    right = myArray[middle:]\n",
        "\n",
        "    #Create your recurrsive call for both sides\n",
        "    mergeSort(left)\n",
        "    mergeSort(right)\n",
        "\n",
        "    #Create an interators for the halves and for the main list\n",
        "    i = 0\n",
        "    j = 0\n",
        "    k = 0\n",
        "\n",
        "    while i < len(left) and j < len(right):\n",
        "        if left[i] < right[j]:\n",
        "          myArray[k] = left[i]\n",
        "          i += 1\n",
        "        else:\n",
        "          myArray[k] = right[j]\n",
        "          j += 1\n",
        "        \n",
        "        #Move k to the next slot\n",
        "        k += 1\n",
        "      \n",
        "    #Join both the left and the right side\n",
        "    while i < len(left):\n",
        "      myArray[k] = left[i]\n",
        "      i += 1\n",
        "      k += 1\n",
        "      \n",
        "    while j < len(right):\n",
        "      myArray[k] = right[j]\n",
        "      j += 1\n",
        "      k += 1\n",
        "  \n",
        "#Create a method to print our array\n",
        "def printList(myArray):\n",
        "\tfor i in range(len(myArray)):\n",
        "\t\tprint(myArray[i], end=\" \")\n",
        "\tprint()\n",
        " \n",
        "#Create Driver to make our array and perform partition\n",
        "if __name__ == '__main__':\n",
        "    myArray = [12, 11, 13, 5, 6, 7]\n",
        "    print(\"First Array:\")\n",
        "    printList(myArray)\n",
        "    \n",
        "    #Perform the MergeSort\n",
        "    mergeSort(myArray)\n",
        "    print(\"Sorted array: \")\n",
        "    printList(myArray)\n",
        "\n",
        "    #Perform a Partition\n",
        "    myArrayPart = np.partition(myArray, 3)\n",
        "    print(\"Partition array: \")\n",
        "    printList(myArrayPart)\n",
        "\n",
        "    #Split the array \n",
        "    myArraySplit = np.array_split(myArrayPart, 2)\n",
        "    print(\"Split array: \")\n",
        "    printList(myArraySplit)\n",
        "\n",
        "    #Perform the hstack \n",
        "    in_arr1 = myArraySplit[0]\n",
        "    in_arr2 = myArraySplit[1]\n",
        "    stack = np.hstack((in_arr1, in_arr2))\n",
        "    print(\"hstack Array: \")\n",
        "    printList(stack)"
      ],
      "execution_count": null,
      "outputs": [
        {
          "output_type": "stream",
          "text": [
            "First Array:\n",
            "12 11 13 5 6 7 \n",
            "Sorted array: \n",
            "5 6 7 11 12 13 \n",
            "Partition array: \n",
            "6 5 7 11 12 13 \n",
            "Split array: \n",
            "[6 5 7] [11 12 13] \n",
            "hstack Array: \n",
            "6 5 7 11 12 13 \n"
          ],
          "name": "stdout"
        }
      ]
    }
  ]
}