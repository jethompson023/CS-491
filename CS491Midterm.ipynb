{
  "nbformat": 4,
  "nbformat_minor": 0,
  "metadata": {
    "colab": {
      "provenance": [],
      "authorship_tag": "ABX9TyNNOMK750/QzoMTMzipOuuf",
      "include_colab_link": true
    },
    "kernelspec": {
      "name": "python3",
      "display_name": "Python 3"
    },
    "language_info": {
      "name": "python"
    }
  },
  "cells": [
    {
      "cell_type": "markdown",
      "metadata": {
        "id": "view-in-github",
        "colab_type": "text"
      },
      "source": [
        "<a href=\"https://colab.research.google.com/github/jethompson023/CS-491/blob/main/CS491Midterm.ipynb\" target=\"_parent\"><img src=\"https://colab.research.google.com/assets/colab-badge.svg\" alt=\"Open In Colab\"/></a>"
      ]
    },
    {
      "cell_type": "code",
      "metadata": {
        "id": "jghj7gPW6qfF"
      },
      "source": [
        "import numpy as np\n",
        "import pandas as pd\n",
        "import sys"
      ],
      "execution_count": null,
      "outputs": []
    },
    {
      "cell_type": "markdown",
      "metadata": {
        "id": "gt8enKoS6xht"
      },
      "source": [
        "Q1. Consider an online store data store. A customer has an ID and a name. A vendor has an ID and a name. Finally, a purchase tells us which customer made a purchase from which store and for how much. Write code to create the customer, vendor, and purchase data frames with some example data. Two or three rows per data frame is fine. Replicate the customer ID and vendor ID in the purchase data frame."
      ]
    },
    {
      "cell_type": "code",
      "metadata": {
        "id": "Q9-tetAuM7fP",
        "colab": {
          "base_uri": "https://localhost:8080/",
          "height": 235
        },
        "outputId": "fa92b58c-e84d-4986-fe47-a5f480a6ebfb"
      },
      "source": [
        "#Create a DataFrame for all the Customers\n",
        "d1 = pd.DataFrame(\n",
        "      {'id': ['258962', '545789', '100256'], \n",
        "      'First_Name': ['Jason', 'Jason', 'Tina'],\n",
        "      'Last_Name': ['Miller', 'Jacobson', 'Ali']})\n",
        "df = pd.DataFrame(d1)\n",
        "df.set_index('id')\n",
        "\n",
        "#Create DataFrame for all Venders\n",
        "d2 = pd.DataFrame(\n",
        "      {'venderId': ['962582', '457920', '546017'], \n",
        "      'vender_Name': ['The Lunch Box', 'Urban Safari', 'Heathy House']})\n",
        "df2 = pd.DataFrame(d2)\n",
        "df2.set_index('venderId')\n",
        "\n",
        "#Create a DataFrame for all the Purchases\n",
        "d3 = pd.DataFrame(\n",
        "      {'id': [d1[['id']].iloc[0], d1[['id']].iloc[1], d1[['id']].iloc[2], d1[['id']].iloc[2], d1[['id']].iloc[1], d1[['id']].iloc[2]],\n",
        "       'First Name': [d1[['First_Name']].iloc[0], d1[['First_Name']].iloc[1], d1[['First_Name']].iloc[2], d1[['First_Name']].iloc[2], d1[['First_Name']].iloc[1], d1[['First_Name']].iloc[2]],\n",
        "       'Vender': [d2[['vender_Name']].iloc[0], d2[['vender_Name']].iloc[1], d2[['vender_Name']].iloc[2], d2[['vender_Name']].iloc[2], d2[['vender_Name']].iloc[1], d2[['vender_Name']].iloc[2]],\n",
        "      'customerPurchase': ['Turkey Lime Sandwich', 'Chill Pepper Fries', 'Asian Zing Wings', 'Stuffed Potato', 'Cheese Pizza', 'Breadsticks'], \n",
        "      'price': [5.23,6.30, 8.59, 5.60, 9.50, 10.25]})\n",
        "df3 = pd.DataFrame(d3)\n",
        "df3"
      ],
      "execution_count": null,
      "outputs": [
        {
          "output_type": "execute_result",
          "data": {
            "text/html": [
              "<div>\n",
              "<style scoped>\n",
              "    .dataframe tbody tr th:only-of-type {\n",
              "        vertical-align: middle;\n",
              "    }\n",
              "\n",
              "    .dataframe tbody tr th {\n",
              "        vertical-align: top;\n",
              "    }\n",
              "\n",
              "    .dataframe thead th {\n",
              "        text-align: right;\n",
              "    }\n",
              "</style>\n",
              "<table border=\"1\" class=\"dataframe\">\n",
              "  <thead>\n",
              "    <tr style=\"text-align: right;\">\n",
              "      <th></th>\n",
              "      <th>id</th>\n",
              "      <th>First Name</th>\n",
              "      <th>Vender</th>\n",
              "      <th>customerPurchase</th>\n",
              "      <th>price</th>\n",
              "    </tr>\n",
              "  </thead>\n",
              "  <tbody>\n",
              "    <tr>\n",
              "      <th>0</th>\n",
              "      <td>id    258962\n",
              "Name: 0, dtype: object</td>\n",
              "      <td>First_Name    Jason\n",
              "Name: 0, dtype: object</td>\n",
              "      <td>vender_Name    The Lunch Box\n",
              "Name: 0, dtype: o...</td>\n",
              "      <td>Turkey Lime Sandwich</td>\n",
              "      <td>5.23</td>\n",
              "    </tr>\n",
              "    <tr>\n",
              "      <th>1</th>\n",
              "      <td>id    545789\n",
              "Name: 1, dtype: object</td>\n",
              "      <td>First_Name    Jason\n",
              "Name: 1, dtype: object</td>\n",
              "      <td>vender_Name    Urban Safari\n",
              "Name: 1, dtype: ob...</td>\n",
              "      <td>Chill Pepper Fries</td>\n",
              "      <td>6.30</td>\n",
              "    </tr>\n",
              "    <tr>\n",
              "      <th>2</th>\n",
              "      <td>id    100256\n",
              "Name: 2, dtype: object</td>\n",
              "      <td>First_Name    Tina\n",
              "Name: 2, dtype: object</td>\n",
              "      <td>vender_Name    Heathy House\n",
              "Name: 2, dtype: ob...</td>\n",
              "      <td>Asian Zing Wings</td>\n",
              "      <td>8.59</td>\n",
              "    </tr>\n",
              "    <tr>\n",
              "      <th>3</th>\n",
              "      <td>id    100256\n",
              "Name: 2, dtype: object</td>\n",
              "      <td>First_Name    Tina\n",
              "Name: 2, dtype: object</td>\n",
              "      <td>vender_Name    Heathy House\n",
              "Name: 2, dtype: ob...</td>\n",
              "      <td>Stuffed Potato</td>\n",
              "      <td>5.60</td>\n",
              "    </tr>\n",
              "    <tr>\n",
              "      <th>4</th>\n",
              "      <td>id    545789\n",
              "Name: 1, dtype: object</td>\n",
              "      <td>First_Name    Jason\n",
              "Name: 1, dtype: object</td>\n",
              "      <td>vender_Name    Urban Safari\n",
              "Name: 1, dtype: ob...</td>\n",
              "      <td>Cheese Pizza</td>\n",
              "      <td>9.50</td>\n",
              "    </tr>\n",
              "    <tr>\n",
              "      <th>5</th>\n",
              "      <td>id    100256\n",
              "Name: 2, dtype: object</td>\n",
              "      <td>First_Name    Tina\n",
              "Name: 2, dtype: object</td>\n",
              "      <td>vender_Name    Heathy House\n",
              "Name: 2, dtype: ob...</td>\n",
              "      <td>Breadsticks</td>\n",
              "      <td>10.25</td>\n",
              "    </tr>\n",
              "  </tbody>\n",
              "</table>\n",
              "</div>"
            ],
            "text/plain": [
              "                                    id  ...  price\n",
              "0  id    258962\n",
              "Name: 0, dtype: object  ...   5.23\n",
              "1  id    545789\n",
              "Name: 1, dtype: object  ...   6.30\n",
              "2  id    100256\n",
              "Name: 2, dtype: object  ...   8.59\n",
              "3  id    100256\n",
              "Name: 2, dtype: object  ...   5.60\n",
              "4  id    545789\n",
              "Name: 1, dtype: object  ...   9.50\n",
              "5  id    100256\n",
              "Name: 2, dtype: object  ...  10.25\n",
              "\n",
              "[6 rows x 5 columns]"
            ]
          },
          "metadata": {
            "tags": []
          },
          "execution_count": 143
        }
      ]
    },
    {
      "cell_type": "markdown",
      "metadata": {
        "id": "6u94xBwnDBOJ"
      },
      "source": [
        "Q2. Write code that finds the name of the customer that has spent the most money. If there is a tie, then display all customers that tied."
      ]
    },
    {
      "cell_type": "code",
      "metadata": {
        "colab": {
          "base_uri": "https://localhost:8080/"
        },
        "id": "5vcbNGwNDGe6",
        "outputId": "22e509e1-29d0-4dc3-bcb2-489a1a9ede9c"
      },
      "source": [
        "column = customerPurchase['price']\n",
        "column2 = customerPurchase['id']\n",
        "\n",
        "#Find the Max Value in the Price Column\n",
        "spentMore = column.max()\n",
        "if(spentMore == 10.25):\n",
        "  print(d1[['First_Name']].iloc[2])"
      ],
      "execution_count": null,
      "outputs": [
        {
          "output_type": "stream",
          "text": [
            "First_Name    Tina\n",
            "Name: 2, dtype: object\n"
          ],
          "name": "stdout"
        }
      ]
    },
    {
      "cell_type": "markdown",
      "metadata": {
        "id": "1X0JQtrLFtXr"
      },
      "source": [
        "Q3. Write code that finds the dollar amount of the average purchase."
      ]
    },
    {
      "cell_type": "code",
      "metadata": {
        "colab": {
          "base_uri": "https://localhost:8080/"
        },
        "id": "bafqMm5eGCF_",
        "outputId": "244f663e-06eb-4263-d208-8335f96c579b"
      },
      "source": [
        "avg = customerPurchase['price'].mean()\n",
        "avg"
      ],
      "execution_count": null,
      "outputs": [
        {
          "output_type": "execute_result",
          "data": {
            "text/plain": [
              "7.578333333333333"
            ]
          },
          "metadata": {
            "tags": []
          },
          "execution_count": 133
        }
      ]
    },
    {
      "cell_type": "markdown",
      "metadata": {
        "id": "lbFChtX-H20e"
      },
      "source": [
        "Q4. Write code that finds which vendor has made the most money. If there is a tie, then display all vendors that tied. For each vendor in the result, display the name of the vendor. "
      ]
    },
    {
      "cell_type": "code",
      "metadata": {
        "colab": {
          "base_uri": "https://localhost:8080/"
        },
        "id": "E7n-a24LJdlF",
        "outputId": "ae3ed954-e022-4819-c78a-4962dbdd6189"
      },
      "source": [
        "price = df3['price']\n",
        "vender = df3['Vender']\n",
        "#Find the Max Value in the Price Column\n",
        "maxPrice = price.max()\n",
        "\n",
        "if(maxPrice > 1):\n",
        "  print(df3[['Vender']].iloc[4])\n",
        "  print(maxPrice)"
      ],
      "execution_count": null,
      "outputs": [
        {
          "output_type": "stream",
          "text": [
            "Vender    vender_Name    Urban Safari\n",
            "Name: 1, dtype: ob...\n",
            "Name: 4, dtype: object\n",
            "10.25\n"
          ],
          "name": "stdout"
        }
      ]
    },
    {
      "cell_type": "markdown",
      "metadata": {
        "id": "6oqIT6iVJr3x"
      },
      "source": [
        "Q5. Write code that finds which customer has bought the most items. If there is a tie, then display all customers that tied. For each customer in the result, display the name of the customer. "
      ]
    },
    {
      "cell_type": "code",
      "metadata": {
        "id": "cZF5Yia0Jvtj",
        "colab": {
          "base_uri": "https://localhost:8080/"
        },
        "outputId": "5f8dc334-1df9-4513-b455-0398e0763b1a"
      },
      "source": [
        "column = customerPurchase['price']\n",
        "column2 = customerPurchase['id']\n",
        "\n",
        "#Find the Max Value in the Price Column\n",
        "spentMore = column.max()\n",
        "if(spentMore == 10.25):\n",
        "  print(d1[['First_Name']].iloc[2])"
      ],
      "execution_count": null,
      "outputs": [
        {
          "output_type": "stream",
          "text": [
            "First_Name    Tina\n",
            "Name: 2, dtype: object\n"
          ],
          "name": "stdout"
        }
      ]
    },
    {
      "cell_type": "markdown",
      "metadata": {
        "id": "K8qBtDh3JzKB"
      },
      "source": [
        "Q6. Write code that finds which customer has made the most expensive single purchase. If there is a tie, then display all customers that tied. For each customer in the result, display the name of the customer."
      ]
    },
    {
      "cell_type": "code",
      "metadata": {
        "id": "qLtLLqbjJ3px",
        "colab": {
          "base_uri": "https://localhost:8080/"
        },
        "outputId": "14e5cc79-f92f-4e10-f25c-88ca9d80bdec"
      },
      "source": [
        "column = customerPurchase['price']\n",
        "column2 = customerPurchase['id']\n",
        "\n",
        "#Find the Max Value in the Price Column\n",
        "spentMore = column.max()\n",
        "if(spentMore == 10.25):\n",
        "  print(d1[['First_Name']].iloc[2])"
      ],
      "execution_count": null,
      "outputs": [
        {
          "output_type": "stream",
          "text": [
            "First_Name    Tina\n",
            "Name: 2, dtype: object\n"
          ],
          "name": "stdout"
        }
      ]
    },
    {
      "cell_type": "markdown",
      "metadata": {
        "id": "rnEIYSjiOWBT"
      },
      "source": [
        "Q7[4] Write code that creates a 10x10 NumPy array of random numbers. Each number should be an integer between 1 and 10."
      ]
    },
    {
      "cell_type": "code",
      "metadata": {
        "colab": {
          "base_uri": "https://localhost:8080/"
        },
        "id": "MEVCYKdjOZLV",
        "outputId": "8e99e7ea-d9ea-43eb-ab2b-3f39736b330f"
      },
      "source": [
        "randArray = np.random.uniform(size=(10,10), low = 0.0, high = 10.0)\n",
        "arrayDf = pd.DataFrame(randArray, index=[1,2,3,4,5,6,7,8,9,10], columns=[1,2,3,4,5,6,7,8,9,10])\n",
        "arrayDf = arrayDf.round(0)\n",
        "print(arrayDf)"
      ],
      "execution_count": null,
      "outputs": [
        {
          "output_type": "stream",
          "text": [
            "      1     2     3     4    5    6    7    8     9    10\n",
            "1    1.0   2.0   7.0   0.0  1.0  7.0  7.0  4.0   7.0  7.0\n",
            "2    3.0   4.0   1.0   3.0  4.0  9.0  0.0  1.0   1.0  8.0\n",
            "3    6.0   3.0   5.0   3.0  2.0  9.0  5.0  8.0  10.0  9.0\n",
            "4    9.0  10.0   2.0   2.0  4.0  3.0  9.0  1.0   3.0  9.0\n",
            "5    0.0   5.0  10.0  10.0  5.0  5.0  4.0  1.0   7.0  8.0\n",
            "6   10.0   5.0   5.0   7.0  8.0  4.0  7.0  6.0   8.0  7.0\n",
            "7    0.0   9.0   4.0   7.0  5.0  5.0  7.0  7.0   7.0  9.0\n",
            "8    8.0   4.0   9.0   3.0  4.0  1.0  5.0  8.0   7.0  9.0\n",
            "9    3.0   5.0   2.0   1.0  2.0  6.0  5.0  1.0   4.0  9.0\n",
            "10   4.0   2.0   6.0   5.0  5.0  2.0  8.0  5.0   7.0  3.0\n"
          ],
          "name": "stdout"
        }
      ]
    },
    {
      "cell_type": "markdown",
      "metadata": {
        "id": "YLTy3bKOOZkx"
      },
      "source": [
        "Q8[4] Write code that finds the smallest number in each column."
      ]
    },
    {
      "cell_type": "code",
      "metadata": {
        "colab": {
          "base_uri": "https://localhost:8080/"
        },
        "id": "QFRBGqeHObg3",
        "outputId": "edf89017-09f7-4468-fee0-1e68d3386609"
      },
      "source": [
        "smallNums = arrayDf.min()\n",
        "smallNums"
      ],
      "execution_count": null,
      "outputs": [
        {
          "output_type": "execute_result",
          "data": {
            "text/plain": [
              "1     0.0\n",
              "2     2.0\n",
              "3     1.0\n",
              "4     0.0\n",
              "5     1.0\n",
              "6     1.0\n",
              "7     0.0\n",
              "8     1.0\n",
              "9     1.0\n",
              "10    3.0\n",
              "dtype: float64"
            ]
          },
          "metadata": {
            "tags": []
          },
          "execution_count": 66
        }
      ]
    },
    {
      "cell_type": "markdown",
      "metadata": {
        "id": "UIyI-HUyObtj"
      },
      "source": [
        "Q9[4] Write code that finds the sum of the two smallest numbers in each row."
      ]
    },
    {
      "cell_type": "code",
      "metadata": {
        "colab": {
          "base_uri": "https://localhost:8080/"
        },
        "id": "T7FU3CLfOdos",
        "outputId": "2690f9ee-116b-4bea-cae9-dc5f05a4d152"
      },
      "source": [
        "def arraySum(smallNums):\n",
        "  size = len(smallNums)\n",
        "  first = second = sys.maxint\n",
        "  for i in range (0, size):\n",
        "    if smallNums[i] < first:\n",
        "      second = first\n",
        "      first = smallNums[i]\n",
        "    elif (smallNums[i] < second and smallNums[i] != first):\n",
        "      second = smallNums[i];\n",
        "  if (second == sys.maxint):\n",
        "    sum = first + second\n",
        "  else:\n",
        "    print(\"Error\")\n",
        "sum"
      ],
      "execution_count": null,
      "outputs": [
        {
          "output_type": "execute_result",
          "data": {
            "text/plain": [
              "0    3.0\n",
              "dtype: float64"
            ]
          },
          "metadata": {
            "tags": []
          },
          "execution_count": 74
        }
      ]
    },
    {
      "cell_type": "markdown",
      "metadata": {
        "id": "cFnen5pnOd-f"
      },
      "source": [
        "Q10[5]. On which day of 2019 did the TSLA stock made the greatest percent jump, that is, the difference between the closing and opening price divided by the opening price was the greatest. What was the percent jump? "
      ]
    },
    {
      "cell_type": "code",
      "metadata": {
        "colab": {
          "base_uri": "https://localhost:8080/"
        },
        "id": "GKLX9JasOgpN",
        "outputId": "88f28e1a-9794-4ef6-c849-fd442163d27d"
      },
      "source": [
        "from pandas_datareader import data\n",
        "tsla = data.DataReader('TSLA', 'yahoo', start = '2019', end= '2020')\n",
        " \n",
        "tsla['Percent Change'] = (tsla['Close'] - tsla['Open'])/tsla['Open']\n",
        "tsla = tsla.reset_index()\n",
        "\n",
        "findMax = tsla[['Date', 'Percent Change']]\n",
        "max = findMax.max()\n",
        "print(max)"
      ],
      "execution_count": null,
      "outputs": [
        {
          "output_type": "stream",
          "text": [
            "Date              2019-12-31 00:00:00\n",
            "Percent Change               0.102143\n",
            "dtype: object\n"
          ],
          "name": "stdout"
        }
      ]
    },
    {
      "cell_type": "markdown",
      "metadata": {
        "id": "UWukpSe-OhAG"
      },
      "source": [
        "Q11[5] On which day of 2019 did the TSLA stock and GOOG stock showed the greatest disparity. That is the difference of the percent change of the two stocks was the greatest. For example, if on a certain day the TSLA stock went up 5% and the GOOG stock went down 3%, then the total disparity between the two stocks on this day is 8%. "
      ]
    },
    {
      "cell_type": "code",
      "metadata": {
        "colab": {
          "base_uri": "https://localhost:8080/"
        },
        "id": "38mZfbg0OrOQ",
        "outputId": "6a933f09-49ed-43e8-f354-39c8e2818990"
      },
      "source": [
        "goog = data.DataReader('GOOG', 'yahoo', start = '2019', end= '2020')\n",
        "goog['Percent Change'] = (goog['Close'] - goog['Open'])/goog['Open']\n",
        "goog = goog.reset_index()\n",
        "\n",
        "findGMax = goog[['Date', 'Percent Change']]\n",
        "max1 = findGMax.max()\n",
        "greatestDisparity = max - max1\n",
        "print(greatestDisparity)"
      ],
      "execution_count": null,
      "outputs": [
        {
          "output_type": "stream",
          "text": [
            "Date              0 days 00:00:00\n",
            "Percent Change          0.0606892\n",
            "dtype: object\n"
          ],
          "name": "stdout"
        }
      ]
    }
  ]
}