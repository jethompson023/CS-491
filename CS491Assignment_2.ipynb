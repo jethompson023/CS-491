{
  "nbformat": 4,
  "nbformat_minor": 0,
  "metadata": {
    "colab": {
      "provenance": [],
      "authorship_tag": "ABX9TyP9ZvgKvr01gzd5GY7gfOJg",
      "include_colab_link": true
    },
    "kernelspec": {
      "name": "python3",
      "display_name": "Python 3"
    },
    "language_info": {
      "name": "python"
    }
  },
  "cells": [
    {
      "cell_type": "markdown",
      "metadata": {
        "id": "view-in-github",
        "colab_type": "text"
      },
      "source": [
        "<a href=\"https://colab.research.google.com/github/jethompson023/CS-491/blob/main/CS491Assignment_2.ipynb\" target=\"_parent\"><img src=\"https://colab.research.google.com/assets/colab-badge.svg\" alt=\"Open In Colab\"/></a>"
      ]
    },
    {
      "cell_type": "code",
      "metadata": {
        "id": "qEhAlOxp20Wq"
      },
      "source": [
        "import numpy as np \n",
        "import pandas as pd "
      ],
      "execution_count": null,
      "outputs": []
    },
    {
      "cell_type": "markdown",
      "metadata": {
        "id": "2AeFuHuu1X8u"
      },
      "source": [
        "1) Create a Series that contains the first 10 prime numbers. Write Python code to generate the numbers. It is ok to use a loop for this question."
      ]
    },
    {
      "cell_type": "code",
      "metadata": {
        "colab": {
          "base_uri": "https://localhost:8080/"
        },
        "id": "gw477fUieNWW",
        "outputId": "895b76f5-dd8e-40c9-efae-2dc6cc86e956"
      },
      "source": [
        "pn = pd.Series([], dtype=int)\n",
        "num = 2\n",
        "while len(pn) < 10:\n",
        "    flag = False\n",
        "    for i in range(2, num):\n",
        "        if num % i == 0:\n",
        "            flag = True\n",
        "            break\n",
        "    if not flag:\n",
        "        pn = pn.append(pd.Series([num], index=[len(pn)]))\n",
        "    num += 1\n",
        "print(pn)"
      ],
      "execution_count": null,
      "outputs": [
        {
          "output_type": "stream",
          "text": [
            "0     2\n",
            "1     3\n",
            "2     5\n",
            "3     7\n",
            "4    11\n",
            "5    13\n",
            "6    17\n",
            "7    19\n",
            "8    23\n",
            "9    29\n",
            "dtype: int64\n"
          ],
          "name": "stdout"
        }
      ]
    },
    {
      "cell_type": "markdown",
      "metadata": {
        "id": "8dfzqwRl1c1y"
      },
      "source": [
        "2) Write code that selects the prime numbers at the odd positions (1,3,5, ..) of the series. Use the iloc method."
      ]
    },
    {
      "cell_type": "code",
      "metadata": {
        "id": "yypjPOVr1gvT",
        "colab": {
          "base_uri": "https://localhost:8080/"
        },
        "outputId": "cdaea148-a6f2-45fc-d1e1-6d50ea4827c9"
      },
      "source": [
        "print(pn.iloc[1:10:1]) # This isn't correct"
      ],
      "execution_count": null,
      "outputs": [
        {
          "output_type": "stream",
          "text": [
            "1     3\n",
            "2     5\n",
            "3     7\n",
            "4    11\n",
            "5    13\n",
            "6    17\n",
            "7    19\n",
            "8    23\n",
            "9    29\n",
            "dtype: int64\n"
          ],
          "name": "stdout"
        }
      ]
    },
    {
      "cell_type": "markdown",
      "metadata": {
        "id": "G6sYp6V-1icy"
      },
      "source": [
        "3) Create the following data frame. Do not set an index (it should use the default index). The index is not shown in the picture below."
      ]
    },
    {
      "cell_type": "code",
      "metadata": {
        "colab": {
          "base_uri": "https://localhost:8080/",
          "height": 204
        },
        "id": "BwYnrlN_1bOW",
        "outputId": "e1912713-8370-46c4-9d99-27d582001c84"
      },
      "source": [
        "d1 = pd.DataFrame(\n",
        "      {'id': ['2', '5', '10', '15', '20'], \n",
        "      'First_Name': ['Jason', 'Jason', 'Tina', 'Jake', 'Amy'],\n",
        "      'Last_Name': ['Miller', 'Jacobson', 'Ali', 'Milner', 'Cooze'], \n",
        "      'Age': ['42', '52', '36', '24', '73'],\n",
        "      'preTestScore': ['4', '24', '31', '2', '3'], \n",
        "      'postTestScore': ['25', '94', '57', '62', '70']})\n",
        "df = pd.DataFrame(d1)\n",
        "df"
      ],
      "execution_count": null,
      "outputs": [
        {
          "output_type": "execute_result",
          "data": {
            "text/html": [
              "<div>\n",
              "<style scoped>\n",
              "    .dataframe tbody tr th:only-of-type {\n",
              "        vertical-align: middle;\n",
              "    }\n",
              "\n",
              "    .dataframe tbody tr th {\n",
              "        vertical-align: top;\n",
              "    }\n",
              "\n",
              "    .dataframe thead th {\n",
              "        text-align: right;\n",
              "    }\n",
              "</style>\n",
              "<table border=\"1\" class=\"dataframe\">\n",
              "  <thead>\n",
              "    <tr style=\"text-align: right;\">\n",
              "      <th></th>\n",
              "      <th>id</th>\n",
              "      <th>First_Name</th>\n",
              "      <th>Last_Name</th>\n",
              "      <th>Age</th>\n",
              "      <th>preTestScore</th>\n",
              "      <th>postTestScore</th>\n",
              "    </tr>\n",
              "  </thead>\n",
              "  <tbody>\n",
              "    <tr>\n",
              "      <th>0</th>\n",
              "      <td>2</td>\n",
              "      <td>Jason</td>\n",
              "      <td>Miller</td>\n",
              "      <td>42</td>\n",
              "      <td>4</td>\n",
              "      <td>25</td>\n",
              "    </tr>\n",
              "    <tr>\n",
              "      <th>1</th>\n",
              "      <td>5</td>\n",
              "      <td>Jason</td>\n",
              "      <td>Jacobson</td>\n",
              "      <td>52</td>\n",
              "      <td>24</td>\n",
              "      <td>94</td>\n",
              "    </tr>\n",
              "    <tr>\n",
              "      <th>2</th>\n",
              "      <td>10</td>\n",
              "      <td>Tina</td>\n",
              "      <td>Ali</td>\n",
              "      <td>36</td>\n",
              "      <td>31</td>\n",
              "      <td>57</td>\n",
              "    </tr>\n",
              "    <tr>\n",
              "      <th>3</th>\n",
              "      <td>15</td>\n",
              "      <td>Jake</td>\n",
              "      <td>Milner</td>\n",
              "      <td>24</td>\n",
              "      <td>2</td>\n",
              "      <td>62</td>\n",
              "    </tr>\n",
              "    <tr>\n",
              "      <th>4</th>\n",
              "      <td>20</td>\n",
              "      <td>Amy</td>\n",
              "      <td>Cooze</td>\n",
              "      <td>73</td>\n",
              "      <td>3</td>\n",
              "      <td>70</td>\n",
              "    </tr>\n",
              "  </tbody>\n",
              "</table>\n",
              "</div>"
            ],
            "text/plain": [
              "   id First_Name Last_Name Age preTestScore postTestScore\n",
              "0   2      Jason    Miller  42            4            25\n",
              "1   5      Jason  Jacobson  52           24            94\n",
              "2  10       Tina       Ali  36           31            57\n",
              "3  15       Jake    Milner  24            2            62\n",
              "4  20        Amy     Cooze  73            3            70"
            ]
          },
          "metadata": {
            "tags": []
          },
          "execution_count": 5
        }
      ]
    },
    {
      "cell_type": "markdown",
      "metadata": {
        "id": "pq1lm8W11veK"
      },
      "source": [
        "4) Make id the index attribute."
      ]
    },
    {
      "cell_type": "code",
      "metadata": {
        "colab": {
          "base_uri": "https://localhost:8080/",
          "height": 204
        },
        "id": "MiXW4zCH2m7U",
        "outputId": "a60a4b5a-8697-4113-ce61-98d5a1ff1c36"
      },
      "source": [
        "df.set_index('id')\n",
        "df"
      ],
      "execution_count": null,
      "outputs": [
        {
          "output_type": "execute_result",
          "data": {
            "text/html": [
              "<div>\n",
              "<style scoped>\n",
              "    .dataframe tbody tr th:only-of-type {\n",
              "        vertical-align: middle;\n",
              "    }\n",
              "\n",
              "    .dataframe tbody tr th {\n",
              "        vertical-align: top;\n",
              "    }\n",
              "\n",
              "    .dataframe thead th {\n",
              "        text-align: right;\n",
              "    }\n",
              "</style>\n",
              "<table border=\"1\" class=\"dataframe\">\n",
              "  <thead>\n",
              "    <tr style=\"text-align: right;\">\n",
              "      <th></th>\n",
              "      <th>id</th>\n",
              "      <th>First_Name</th>\n",
              "      <th>Last_Name</th>\n",
              "      <th>Age</th>\n",
              "      <th>preTestScore</th>\n",
              "      <th>postTestScore</th>\n",
              "    </tr>\n",
              "  </thead>\n",
              "  <tbody>\n",
              "    <tr>\n",
              "      <th>0</th>\n",
              "      <td>2</td>\n",
              "      <td>Jason</td>\n",
              "      <td>Miller</td>\n",
              "      <td>42</td>\n",
              "      <td>4</td>\n",
              "      <td>25</td>\n",
              "    </tr>\n",
              "    <tr>\n",
              "      <th>1</th>\n",
              "      <td>5</td>\n",
              "      <td>Jason</td>\n",
              "      <td>Jacobson</td>\n",
              "      <td>52</td>\n",
              "      <td>24</td>\n",
              "      <td>94</td>\n",
              "    </tr>\n",
              "    <tr>\n",
              "      <th>2</th>\n",
              "      <td>10</td>\n",
              "      <td>Tina</td>\n",
              "      <td>Ali</td>\n",
              "      <td>36</td>\n",
              "      <td>31</td>\n",
              "      <td>57</td>\n",
              "    </tr>\n",
              "    <tr>\n",
              "      <th>3</th>\n",
              "      <td>15</td>\n",
              "      <td>Jake</td>\n",
              "      <td>Milner</td>\n",
              "      <td>24</td>\n",
              "      <td>2</td>\n",
              "      <td>62</td>\n",
              "    </tr>\n",
              "    <tr>\n",
              "      <th>4</th>\n",
              "      <td>20</td>\n",
              "      <td>Amy</td>\n",
              "      <td>Cooze</td>\n",
              "      <td>73</td>\n",
              "      <td>3</td>\n",
              "      <td>70</td>\n",
              "    </tr>\n",
              "  </tbody>\n",
              "</table>\n",
              "</div>"
            ],
            "text/plain": [
              "   id First_Name Last_Name Age preTestScore postTestScore\n",
              "0   2      Jason    Miller  42            4            25\n",
              "1   5      Jason  Jacobson  52           24            94\n",
              "2  10       Tina       Ali  36           31            57\n",
              "3  15       Jake    Milner  24            2            62\n",
              "4  20        Amy     Cooze  73            3            70"
            ]
          },
          "metadata": {
            "tags": []
          },
          "execution_count": 6
        }
      ]
    },
    {
      "cell_type": "markdown",
      "metadata": {
        "id": "HKOtoa0P1w21"
      },
      "source": [
        "5) Show the first names in the data frame."
      ]
    },
    {
      "cell_type": "code",
      "metadata": {
        "id": "Nc2QrX_M1zyW",
        "colab": {
          "base_uri": "https://localhost:8080/"
        },
        "outputId": "32ac2ffa-824e-410c-9d87-76a463977b2a"
      },
      "source": [
        "print(df.First_Name.to_string(index=False))"
      ],
      "execution_count": null,
      "outputs": [
        {
          "output_type": "stream",
          "text": [
            " Jason\n",
            " Jason\n",
            "  Tina\n",
            "  Jake\n",
            "   Amy\n"
          ],
          "name": "stdout"
        }
      ]
    },
    {
      "cell_type": "markdown",
      "metadata": {
        "id": "Z04TNOSF10DF"
      },
      "source": [
        "6) Show the age of Tina."
      ]
    },
    {
      "cell_type": "code",
      "metadata": {
        "id": "7t0-uAj715Ls",
        "colab": {
          "base_uri": "https://localhost:8080/"
        },
        "outputId": "10ca1def-02fd-4da5-e22f-58fd12836361"
      },
      "source": [
        "print(df[['Age']].iloc[2])"
      ],
      "execution_count": null,
      "outputs": [
        {
          "output_type": "stream",
          "text": [
            "Age    36\n",
            "Name: 2, dtype: object\n"
          ],
          "name": "stdout"
        }
      ]
    },
    {
      "cell_type": "markdown",
      "metadata": {
        "id": "cE1yodTe15jO"
      },
      "source": [
        "7) What is the mean difference between the preTestSocre and postTestScore?"
      ]
    },
    {
      "cell_type": "code",
      "metadata": {
        "id": "ztQqtcuW1-Ic",
        "colab": {
          "base_uri": "https://localhost:8080/"
        },
        "outputId": "996319eb-bac2-45e9-9f27-f20275d625ef"
      },
      "source": [
        "mean = df[['preTestScore', 'postTestScore']].mean()\n",
        "print(mean)\n"
      ],
      "execution_count": null,
      "outputs": [
        {
          "output_type": "stream",
          "text": [
            "preTestScore        848624.6\n",
            "postTestScore    518915254.0\n",
            "dtype: float64\n"
          ],
          "name": "stdout"
        }
      ]
    },
    {
      "cell_type": "markdown",
      "metadata": {
        "id": "PuR_gYbb1_Ev"
      },
      "source": [
        "8) Make the postTestScore of Amy and Jake to be not-a-number.*"
      ]
    },
    {
      "cell_type": "code",
      "metadata": {
        "id": "mZqb9S1spyU2"
      },
      "source": [],
      "execution_count": null,
      "outputs": []
    },
    {
      "cell_type": "markdown",
      "metadata": {
        "id": "NsrXn4q82P44"
      },
      "source": [
        "9) Show all rows in the data frame, where all values are different from not-a-number."
      ]
    },
    {
      "cell_type": "code",
      "metadata": {
        "id": "RXALLCWn2S21"
      },
      "source": [],
      "execution_count": null,
      "outputs": []
    },
    {
      "cell_type": "markdown",
      "metadata": {
        "id": "9P2dVeMc2TRe"
      },
      "source": [
        "10) Reset the index. Then make the first name and last name together to be the key."
      ]
    },
    {
      "cell_type": "code",
      "metadata": {
        "id": "6abjYmWX2Xic",
        "colab": {
          "base_uri": "https://localhost:8080/"
        },
        "outputId": "7e044c9c-0d43-4e6b-e96c-1717ffcd81fb"
      },
      "source": [
        "#Reset the Index to orginal and make sure this change becomes True\n",
        "df.reset_index(drop=True)\n",
        "\n",
        "#Change the Key to First and Last Name \n",
        "newKey = df[['First_Name', 'Last_Name']].keys()\n",
        "newKey"
      ],
      "execution_count": null,
      "outputs": [
        {
          "output_type": "execute_result",
          "data": {
            "text/plain": [
              "Index(['First_Name', 'Last_Name'], dtype='object')"
            ]
          },
          "metadata": {
            "tags": []
          },
          "execution_count": 10
        }
      ]
    },
    {
      "cell_type": "code",
      "metadata": {
        "id": "mKmWdPFvp3_6"
      },
      "source": [
        "df.set_index('0', '1', '2', '3', '4', '5')\n",
        "df"
      ],
      "execution_count": null,
      "outputs": []
    },
    {
      "cell_type": "markdown",
      "metadata": {
        "id": "Ysqe67Of2X1a"
      },
      "source": [
        "11) Show the age of Tina using the new data frame. "
      ]
    },
    {
      "cell_type": "code",
      "metadata": {
        "id": "sZO99sHL2bQM"
      },
      "source": [
        "tdf = df[['Age']].iloc[2]\n",
        "new_df = pd.DataFrame(tdf)\n",
        "new_df"
      ],
      "execution_count": null,
      "outputs": []
    }
  ]
}